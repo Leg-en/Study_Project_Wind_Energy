{
 "cells": [
  {
   "cell_type": "code",
   "execution_count": 6,
   "metadata": {
    "collapsed": true
   },
   "outputs": [],
   "source": [
    "import json\n",
    "import pickle\n",
    "from itertools import combinations\n",
    "import numpy as np\n",
    "from pymoo.algorithms.moo.nsga2 import NSGA2\n",
    "from pymoo.core.callback import Callback\n",
    "from pymoo.core.problem import ElementwiseProblem\n",
    "from pymoo.operators.crossover.pntx import TwoPointCrossover\n",
    "from pymoo.operators.mutation.bitflip import BitflipMutation\n",
    "from pymoo.operators.sampling.rnd import BinaryRandomSampling\n",
    "from pymoo.optimize import minimize\n",
    "import multiprocessing\n",
    "from pymoo.core.problem import StarmapParallelization\n",
    "from pymoo.visualization.scatter import Scatter\n",
    "import logging\n",
    "import sys\n",
    "from pymoo.core.repair import Repair\n",
    "from pymoo.termination import get_termination\n",
    "import json\n",
    "import pickle\n",
    "from itertools import combinations\n",
    "import numpy as np\n",
    "from pymoo.algorithms.moo.nsga2 import NSGA2\n",
    "from pymoo.operators.crossover.pntx import TwoPointCrossover\n",
    "from pymoo.operators.mutation.bitflip import BitflipMutation\n",
    "from pymoo.operators.sampling.rnd import BinaryRandomSampling\n",
    "from pymoo.optimize import minimize\n",
    "from pymoo.visualization.scatter import Scatter\n",
    "from pymoo.core.repair import Repair\n",
    "from multiprocessing import Pool\n",
    "import logging\n",
    "import sys\n",
    "from pymoo.core.problem import Problem\n",
    "from pymoo.termination import get_termination"
   ]
  },
  {
   "cell_type": "code",
   "execution_count": 7,
   "outputs": [],
   "source": [
    "repair_mode = True"
   ],
   "metadata": {
    "collapsed": false
   }
  },
  {
   "cell_type": "code",
   "execution_count": 4,
   "outputs": [],
   "source": [
    "class WindEnergySiteSelectionProblem(ElementwiseProblem):\n",
    "\n",
    "    def __init__(self, **kwargs):\n",
    "        # super().__init__(n_var=gdf_optimization.shape[0], n_obj=2, n_ieq_constr=0, xl=0.0, xu=1.0)\n",
    "        if repair_mode:\n",
    "            super().__init__(n_var=points.shape[0], n_obj=2, n_ieq_constr=0, xl=0.0,\n",
    "                             xu=1.0, **kwargs)  # Bearbeitet weil v_var nicht mehr gepasst hat\n",
    "        else:\n",
    "            super().__init__(n_var=points.shape[0], n_obj=2, n_ieq_constr=1, xl=0.0,\n",
    "                             xu=1.0, **kwargs)  # Bearbeitet weil v_var nicht mehr gepasst hat\n",
    "\n",
    "    def _evaluate(self, x, out, *args, **kwargs):\n",
    "        indices = np.where(x)[0]\n",
    "        combs = combinations(indices, 2)\n",
    "        constraints_np = -1\n",
    "\n",
    "        def repair(x1, x2):\n",
    "            x[x1] = False\n",
    "\n",
    "        for combination in combs:\n",
    "            if combination[0] and combination[1]:\n",
    "                WKA1 = points[combination[0]]\n",
    "                WKA2 = points[combination[1]]\n",
    "                WKA1_type = WKAs[WKA1[0]]\n",
    "                WKA2_type = WKAs[WKA2[0]]\n",
    "                d = WKA1[1].distance(WKA2[1])\n",
    "                if 3 * WKA1_type[\"rotor_diameter_in_meter\"] < d and 3 * WKA2_type[\"rotor_diameter_in_meter\"] < d:\n",
    "                    if repair_mode:\n",
    "                        repair(combination[0], combination[1])\n",
    "                    else:\n",
    "                        constraints_np = 1\n",
    "                        break\n",
    "\n",
    "        vals = np.where(x, points[:, 0], \"\")\n",
    "\n",
    "        uniques, count = np.unique(vals, return_counts=True)\n",
    "\n",
    "        type_prices = {}\n",
    "        for idx, item in enumerate(uniques):\n",
    "            if item == \"\":\n",
    "                continue\n",
    "            building_price = WKAs[item][\"price\"][\"price_building\"]\n",
    "            price_per_year = WKAs[item][\"price\"][\"price_per_year\"]\n",
    "            sum_price_one = building_price + (price_per_year * WKAs[item][\"life_expectancy_in_years\"])\n",
    "            type_prices[item] = sum_price_one\n",
    "\n",
    "        for key, value in type_prices.items():\n",
    "            vals[vals == key] = value\n",
    "        vals[vals == \"\"] = 0\n",
    "        vals_sum = np.sum(vals)\n",
    "\n",
    "        # Grundlage für Energieberechnung https://www.energie-lexikon.info/megawattstunde.html\n",
    "        vals_ = np.where(x, points[:, 0], \"\")\n",
    "        uniques, count = np.unique(vals_, return_counts=True)\n",
    "\n",
    "        type_energy = {}\n",
    "        for idx, item in enumerate(uniques):\n",
    "            if item == \"\":\n",
    "                continue\n",
    "            nominal_power = WKAs[item][\"nominal_power_in_kW\"]\n",
    "            lifetime_hours = WKAs[item][\n",
    "                                 \"life_expectancy_in_years\"] * 8760  # Laut google ist 1 Jahr 8760 stunden # trifft nicht auf schaltjahre zu. Dort sind es 8784\n",
    "            kwh = nominal_power * lifetime_hours\n",
    "            type_energy[item] = kwh\n",
    "\n",
    "        for key, value in type_energy.items():\n",
    "            vals_[vals_ == key] = value\n",
    "        vals_[vals_ == \"\"] = 0\n",
    "        vals__sum = np.sum(vals_)\n",
    "\n",
    "        out[\"F\"] = np.column_stack([vals_sum, vals__sum])\n",
    "        if not repair_mode:\n",
    "            out[\"G\"] = np.asarray([constraints_np])\n",
    "\n",
    "\n",
    "class MyCallback(Callback):\n",
    "\n",
    "    def __init__(self) -> None:\n",
    "        super().__init__()\n",
    "        self.off = {}\n",
    "\n",
    "    def notify(self, algorithm):\n",
    "        logging.info(\"Callbackk Call\")\n",
    "        self.off[algorithm.n_gen] = algorithm\n",
    "\n"
   ],
   "metadata": {
    "collapsed": false
   }
  },
  {
   "cell_type": "code",
   "execution_count": 8,
   "outputs": [],
   "source": [
    "class CustomRepair(Repair):\n",
    "\n",
    "    def repair_mp(self, item):\n",
    "        row = item[0]\n",
    "        idx = item[1]\n",
    "        indices = np.where(row)[0]\n",
    "        combs = combinations(indices, 2)\n",
    "        for combination in combs:\n",
    "            if combination[0] and combination[1]:\n",
    "                WKA1 = points[combination[0]]\n",
    "                WKA2 = points[combination[1]]\n",
    "                WKA1_type = WKAs[WKA1[0]]\n",
    "                WKA2_type = WKAs[WKA2[0]]\n",
    "                d = WKA1[1].distance(WKA2[1])\n",
    "                if 3 * WKA1_type[\"rotor_diameter_in_meter\"] < d and 3 * WKA2_type[\"rotor_diameter_in_meter\"] < d:\n",
    "                    row[combination[0]] = False\n",
    "        return (idx, row)\n",
    "\n",
    "    def _do(self, problem, X, **kwargs):\n",
    "        row_gen = (x for x in X)\n",
    "        indices = np.arange(X.shape[0])\n",
    "\n",
    "        res = pool.map(self.repair_mp, zip(row_gen, indices))\n",
    "        res.sort(key=lambda elem: elem[0])\n",
    "        for idx, item in res:\n",
    "            X[idx, :] = item\n",
    "        return X\n",
    "\n",
    "\n",
    "\n",
    "class WindEnergySiteSelectionProblem(Problem):\n",
    "\n",
    "    def __init__(self, **kwargs):\n",
    "        super().__init__(n_var=points.shape[0], n_obj=2, n_ieq_constr=1, xl=0.0,\n",
    "                         xu=1.0, **kwargs)  # Bearbeitet weil v_var nicht mehr gepasst hat\n",
    "\n",
    "\n",
    "    def const_check(self, item):\n",
    "        row = item[0]\n",
    "        idx = item[1]\n",
    "        indices = np.where(row)[0]\n",
    "        combs = combinations(indices, 2)\n",
    "        constraints_np = -1\n",
    "        for combination in combs:\n",
    "            if combination[0] and combination[1]:\n",
    "                WKA1 = points[combination[0]]\n",
    "                WKA2 = points[combination[1]]\n",
    "                WKA1_type = WKAs[WKA1[0]]\n",
    "                WKA2_type = WKAs[WKA2[0]]\n",
    "                d = WKA1[1].distance(WKA2[1])\n",
    "                if 3 * WKA1_type[\"rotor_diameter_in_meter\"] < d and 3 * WKA2_type[\"rotor_diameter_in_meter\"] < d:\n",
    "                    constraints_np = 1\n",
    "                    break\n",
    "        return (idx, constraints_np)\n",
    "\n",
    "    def _evaluate(self, X, out, *args, **kwargs):\n",
    "\n",
    "        constraints_np = np.zeros((X.shape[0]))\n",
    "        row_gen = (x for x in X)\n",
    "        indices = np.arange(X.shape[0])\n",
    "\n",
    "        res = pool.map(self.const_check, zip(row_gen, indices))\n",
    "        res.sort(key=lambda elem: elem[0])\n",
    "        for idx, item in res:\n",
    "            constraints_np[idx] = item\n",
    "\n",
    "\n",
    "\n",
    "\n",
    "        vals = np.where(X, points[:, 0], \"\")\n",
    "\n",
    "        uniques, count = np.unique(vals, return_counts=True)\n",
    "\n",
    "        type_prices = {}\n",
    "        for idx, item in enumerate(uniques):\n",
    "            if item == \"\":\n",
    "                continue\n",
    "            building_price = WKAs[item][\"price\"][\"price_building\"]\n",
    "            price_per_year = WKAs[item][\"price\"][\"price_per_year\"]\n",
    "            sum_price_one = building_price + (price_per_year * WKAs[item][\"life_expectancy_in_years\"])\n",
    "            type_prices[item] = sum_price_one\n",
    "\n",
    "        for key, value in type_prices.items():\n",
    "            vals[vals == key] = value\n",
    "        vals[vals == \"\"] = 0\n",
    "        vals_sum = np.sum(vals, axis=1)\n",
    "\n",
    "\n",
    "        # Grundlage für Energieberechnung https://www.energie-lexikon.info/megawattstunde.html\n",
    "        vals_ = np.where(X, points[:, 0], \"\")\n",
    "        uniques, count = np.unique(vals_, return_counts=True)\n",
    "\n",
    "        type_energy = {}\n",
    "        for idx, item in enumerate(uniques):\n",
    "            if item == \"\":\n",
    "                continue\n",
    "            nominal_power = WKAs[item][\"nominal_power_in_kW\"]\n",
    "            lifetime_hours = WKAs[item][\n",
    "                                 \"life_expectancy_in_years\"] * 8760  # Laut google ist 1 Jahr 8760 stunden # trifft nicht auf schaltjahre zu. Dort sind es 8784\n",
    "            kwh = nominal_power * lifetime_hours\n",
    "            type_energy[item] = kwh\n",
    "\n",
    "        for key, value in type_energy.items():\n",
    "            vals_[vals_ == key] = value\n",
    "        vals_[vals_ == \"\"] = 0\n",
    "        vals__sum = np.sum(vals_, axis=1)\n",
    "        vals__sum = -vals__sum\n",
    "\n",
    "        out[\"F\"] = np.column_stack([vals_sum, vals__sum])\n",
    "        out[\"G\"] = np.asarray([constraints_np])\n"
   ],
   "metadata": {
    "collapsed": false
   }
  },
  {
   "cell_type": "code",
   "execution_count": 14,
   "outputs": [],
   "source": [
    "class CustomRepair(Repair):\n",
    "\n",
    "    def repair_mp(self, item):\n",
    "        row = item[0]\n",
    "        idx = item[1]\n",
    "        indices = np.where(row)[0]\n",
    "        combs = combinations(indices, 2)\n",
    "        for combination in combs:\n",
    "            if combination[0] and combination[1]:\n",
    "                WKA1 = points[combination[0]]\n",
    "                WKA2 = points[combination[1]]\n",
    "                WKA1_type = WKAs[WKA1[0]]\n",
    "                WKA2_type = WKAs[WKA2[0]]\n",
    "                d = WKA1[1].distance(WKA2[1])\n",
    "                if 3 * WKA1_type[\"rotor_diameter_in_meter\"] < d and 3 * WKA2_type[\"rotor_diameter_in_meter\"] < d:\n",
    "                    r_choice_list = [combination[0], combination[1]]\n",
    "                    row[random.choice(r_choice_list)] = False\n",
    "        return (idx, row)\n",
    "\n",
    "    def _do(self, problem, X, **kwargs):\n",
    "        row_gen = (x for x in X)\n",
    "        indices = np.arange(X.shape[0])\n",
    "\n",
    "        res = pool.map(self.repair_mp, zip(row_gen, indices))\n",
    "        res.sort(key=lambda elem: elem[0])\n",
    "        for idx, item in res:\n",
    "            X[idx, :] = item\n",
    "        return X\n",
    "\n",
    "\n",
    "\n",
    "class WindEnergySiteSelectionProblem(Problem):\n",
    "\n",
    "    def __init__(self, **kwargs):\n",
    "        super().__init__(n_var=points.shape[0], n_obj=2, n_ieq_constr=1, xl=0.0,\n",
    "                         xu=1.0, **kwargs)  # Bearbeitet weil v_var nicht mehr gepasst hat\n",
    "\n",
    "\n",
    "    def const_check(self, item):\n",
    "        row = item[0]\n",
    "        idx = item[1]\n",
    "        indices = np.where(row)[0]\n",
    "        combs = combinations(indices, 2)\n",
    "        constraints_np = -1\n",
    "        for combination in combs:\n",
    "            if combination[0] and combination[1]:\n",
    "                WKA1 = points[combination[0]]\n",
    "                WKA2 = points[combination[1]]\n",
    "                WKA1_type = WKAs[WKA1[0]]\n",
    "                WKA2_type = WKAs[WKA2[0]]\n",
    "                d = WKA1[1].distance(WKA2[1])\n",
    "                if 3 * WKA1_type[\"rotor_diameter_in_meter\"] < d and 3 * WKA2_type[\"rotor_diameter_in_meter\"] < d:\n",
    "                    constraints_np = 1\n",
    "                    break\n",
    "        return (idx, constraints_np)\n",
    "\n",
    "    def _evaluate(self, X, out, *args, **kwargs):\n",
    "\n",
    "        constraints_np = np.zeros((X.shape[0]))\n",
    "        row_gen = (x for x in X)\n",
    "        indices = np.arange(X.shape[0])\n",
    "\n",
    "        res = pool.map(self.const_check, zip(row_gen, indices))\n",
    "        res.sort(key=lambda elem: elem[0])\n",
    "        for idx, item in res:\n",
    "            constraints_np[idx] = item\n",
    "\n",
    "\n",
    "\n",
    "\n",
    "        vals = np.where(X, points[:, 0], \"\")\n",
    "\n",
    "        uniques, count = np.unique(vals, return_counts=True)\n",
    "\n",
    "        type_prices = {}\n",
    "        for idx, item in enumerate(uniques):\n",
    "            if item == \"\":\n",
    "                continue\n",
    "            building_price = WKAs[item][\"price\"][\"price_building\"]\n",
    "            price_per_year = WKAs[item][\"price\"][\"price_per_year\"]\n",
    "            sum_price_one = building_price + (price_per_year * WKAs[item][\"life_expectancy_in_years\"])\n",
    "            type_prices[item] = sum_price_one\n",
    "\n",
    "        for key, value in type_prices.items():\n",
    "            vals[vals == key] = value\n",
    "        vals[vals == \"\"] = 0\n",
    "        vals_sum = np.sum(vals, axis=1)\n",
    "\n",
    "\n",
    "        # Grundlage für Energieberechnung https://www.energie-lexikon.info/megawattstunde.html\n",
    "        vals_ = np.where(X, points[:, 0], \"\")\n",
    "        uniques, count = np.unique(vals_, return_counts=True)\n",
    "\n",
    "        type_energy = {}\n",
    "        for idx, item in enumerate(uniques):\n",
    "            if item == \"\":\n",
    "                continue\n",
    "            nominal_power = WKAs[item][\"nominal_power_in_kW\"]\n",
    "            lifetime_hours = WKAs[item][\n",
    "                                 \"life_expectancy_in_years\"] * 8760  # Laut google ist 1 Jahr 8760 stunden # trifft nicht auf schaltjahre zu. Dort sind es 8784\n",
    "            kwh = nominal_power * lifetime_hours\n",
    "            type_energy[item] = kwh\n",
    "\n",
    "        for key, value in type_energy.items():\n",
    "            vals_[vals_ == key] = value\n",
    "        vals_[vals_ == \"\"] = 0\n",
    "        vals__sum = np.sum(vals_, axis=1)\n",
    "        vals__sum = -vals__sum\n",
    "\n",
    "        out[\"F\"] = np.column_stack([vals_sum, vals__sum])\n",
    "        out[\"G\"] = np.asarray([constraints_np])\n",
    "\n"
   ],
   "metadata": {
    "collapsed": false
   }
  },
  {
   "cell_type": "code",
   "execution_count": 9,
   "outputs": [],
   "source": [
    "with open(r\"C:\\workspace\\Study_Project_Wind_Energy\\Results\\Reduced Area Repair Excluded\\result.pkl\", \"rb\") as file:\n",
    "    res = pickle.load(file)"
   ],
   "metadata": {
    "collapsed": false
   }
  },
  {
   "cell_type": "code",
   "execution_count": 10,
   "outputs": [
    {
     "data": {
      "text/plain": "<pymoo.core.result.Result at 0x2607531df70>"
     },
     "execution_count": 10,
     "metadata": {},
     "output_type": "execute_result"
    }
   ],
   "source": [
    "res"
   ],
   "metadata": {
    "collapsed": false
   }
  },
  {
   "cell_type": "code",
   "execution_count": 11,
   "outputs": [
    {
     "data": {
      "text/plain": "<pymoo.visualization.scatter.Scatter at 0x26077b196a0>"
     },
     "execution_count": 11,
     "metadata": {},
     "output_type": "execute_result"
    },
    {
     "data": {
      "text/plain": "<Figure size 800x600 with 1 Axes>",
      "image/png": "[encoded data removed]"
     },
     "metadata": {},
     "output_type": "display_data"
    }
   ],
   "source": [
    "Scatter().add(res.F).show()"
   ],
   "metadata": {
    "collapsed": false
   }
  },
  {
   "cell_type": "code",
   "execution_count": 12,
   "outputs": [],
   "source": [
    "with open(r\"C:\\workspace\\Study_Project_Wind_Energy\\Results\\Reduced Area Repair Included\\result.pkl\", \"rb\") as file:\n",
    "    res2 = pickle.load(file)"
   ],
   "metadata": {
    "collapsed": false
   }
  },
  {
   "cell_type": "code",
   "execution_count": 13,
   "outputs": [
    {
     "data": {
      "text/plain": "<pymoo.visualization.scatter.Scatter at 0x26078537f10>"
     },
     "execution_count": 13,
     "metadata": {},
     "output_type": "execute_result"
    },
    {
     "data": {
      "text/plain": "<Figure size 800x600 with 1 Axes>",
      "image/png": "[encoded data removed]"
     },
     "metadata": {},
     "output_type": "display_data"
    }
   ],
   "source": [
    "Scatter().add(res2.F).show()"
   ],
   "metadata": {
    "collapsed": false
   }
  },
  {
   "cell_type": "code",
   "execution_count": 15,
   "outputs": [],
   "source": [
    "with open(r\"C:\\workspace\\Study_Project_Wind_Energy\\Results\\Reduced Area Repair Excluded Randomized\\result.pkl\", \"rb\") as file:\n",
    "    res3 = pickle.load(file)"
   ],
   "metadata": {
    "collapsed": false
   }
  },
  {
   "cell_type": "code",
   "execution_count": 16,
   "outputs": [
    {
     "data": {
      "text/plain": "<pymoo.visualization.scatter.Scatter at 0x2607af893a0>"
     },
     "execution_count": 16,
     "metadata": {},
     "output_type": "execute_result"
    },
    {
     "data": {
      "text/plain": "<Figure size 800x600 with 1 Axes>",
      "image/png": "[encoded data removed]"
     },
     "metadata": {},
     "output_type": "display_data"
    }
   ],
   "source": [
    "Scatter().add(res3.F).show()"
   ],
   "metadata": {
    "collapsed": false
   }
  },
  {
   "cell_type": "code",
   "execution_count": null,
   "outputs": [],
   "source": [],
   "metadata": {
    "collapsed": false
   }
  }
 ],
 "metadata": {
  "kernelspec": {
   "display_name": "Python 3",
   "language": "python",
   "name": "python3"
  },
  "language_info": {
   "codemirror_mode": {
    "name": "ipython",
    "version": 2
   },
   "file_extension": ".py",
   "mimetype": "text/x-python",
   "name": "python",
   "nbconvert_exporter": "python",
   "pygments_lexer": "ipython2",
   "version": "2.7.6"
  }
 },
 "nbformat": 4,
 "nbformat_minor": 0
}
